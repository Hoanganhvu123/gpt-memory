{
 "cells": [
  {
   "cell_type": "markdown",
   "metadata": {},
   "source": [
    "# 🧠💡 Memory-Powered AI Cookbook: Enhancing AI with Personal Context\n",
    "\n",
    "Welcome to this groovy cookbook where we'll explore how to supercharge your AI applications with the power of memory! We'll be using the awesome Tavily search tool and the mind-blowing MistralAI. Let's dive in and create some AI magic! 🚀✨"
   ]
  },
  {
   "cell_type": "markdown",
   "metadata": {},
   "source": [
    "## 🛠 Setup: Installing the Dependencies"
   ]
  },
  {
   "cell_type": "code",
   "execution_count": null,
   "metadata": {},
   "outputs": [],
   "source": [
    "!pip install langchain langchain-mistralai tavily-python tovana"
   ]
  },
  {
   "cell_type": "markdown",
   "metadata": {},
   "source": [
    "## 🔑 Configuring the API Keys"
   ]
  },
  {
   "cell_type": "code",
   "execution_count": null,
   "metadata": {},
   "outputs": [],
   "source": [
    "import os\n",
    "\n",
    "# Replace these with your actual API keys\n",
    "MISTRAL_API_KEY = \"IQ-xxxx\"\n",
    "TAVILY_API_KEY = \"tvly-xxxx\"\n",
    "\n",
    "os.environ[\"TAVILY_API_KEY\"] = TAVILY_API_KEY\n",
    "os.environ[\"MISTRAL_API_KEY\"] = MISTRAL_API_KEY\n",
    "\n",
    "print(\"🔐 API keys locked and loaded!\")"
   ]
  },
  {
   "cell_type": "markdown",
   "metadata": {},
   "source": [
    "## 🧠 Initializing Memory "
   ]
  },
  {
   "cell_type": "code",
   "execution_count": null,
   "metadata": {},
   "outputs": [],
   "source": [
    "import uuid\n",
    "from tovana import MemoryManager\n",
    "\n",
    "memory = MemoryManager(\n",
    "    api_key=MISTRAL_API_KEY,\n",
    "    provider=\"mistralai\",\n",
    "    model=\"mistral-large-latest\",\n",
    "    temperature=0,\n",
    "    business_description=\"A foodie travel advisor that loves street food\",\n",
    "    include_beliefs=True,\n",
    ")\n",
    "\n",
    "print(\"🧠 Memory matrix initialized and ready for action!\")"
   ]
  },
  {
   "cell_type": "markdown",
   "metadata": {},
   "source": [
    "## 👤 Creating a Unique User Experience"
   ]
  },
  {
   "cell_type": "code",
   "execution_count": null,
   "metadata": {},
   "outputs": [],
   "source": [
    "user_id: str = str(uuid.uuid4())  # Generate a unique user ID\n",
    "print(f\"🆔 New user created with ID: {user_id}\")\n",
    "\n",
    "# Update user's memory with some tasty preferences\n",
    "memory.update_memory(user_id, \"I absolutely love Ramen and can't resist trying local street food wherever I go!\")\n",
    "print(\"🍜 User's food preferences saved in the memory bank!\")"
   ]
  },
  {
   "cell_type": "markdown",
   "metadata": {},
   "source": [
    "## 🔍 The Power of Memory Driven Reasoning Search"
   ]
  },
  {
   "cell_type": "code",
   "execution_count": null,
   "metadata": {},
   "outputs": [],
   "source": [
    "from tavily import TavilyClient\n",
    "\n",
    "tavily_search_tool = TavilyClient(api_key=TAVILY_API_KEY)\n",
    "memory_context = memory.get_memory_context(user_id)\n",
    "\n",
    "print(\"🧠 Retrieving user's memory context...\")\n",
    "print(f\"Relevant memory context: {memory_context}\")\n",
    "\n",
    "print(\"\\n🔍 Searching for personalized food recommendations in London...\")\n",
    "res = tavily_search_tool.search(f\"Where to eat in London? {memory_context}\")\n",
    "\n",
    "print(\"\\n🍽 Top recommendations based on your preferences:\")\n",
    "for i, result in enumerate(res[\"results\"][:3], 1):  # Limiting to top 3 results for brevity\n",
    "    print(f\"\\n{i}. {result['title']}\")\n",
    "    print(f\"   🔗 {result['url']}\")\n",
    "    print(f\"   📝 {result['content'][:200]}...\")"
   ]
  },
  {
   "cell_type": "markdown",
   "metadata": {},
   "source": [
    "## 🎉 Wrapping Up: The Power of Memory in AI\n",
    "\n",
    "And there you have it! We've just witnessed the awesome power of memory-enhanced AI in action. By combining user preferences, context-aware search, and AI-powered recommendations, we've created a personalized and engaging experience for our foodie traveler.\n",
    "\n",
    "Remember, with great power comes great responsibility (and great food recommendations)! "
   ]
  }
 ],
 "metadata": {
  "kernelspec": {
   "display_name": "Python 3",
   "language": "python",
   "name": "python3"
  },
  "language_info": {
   "codemirror_mode": {
    "name": "ipython",
    "version": 3
   },
   "file_extension": ".py",
   "mimetype": "text/x-python",
   "name": "python",
   "nbconvert_exporter": "python",
   "pygments_lexer": "ipython3",
   "version": "3.8.0"
  }
 },
 "nbformat": 4,
 "nbformat_minor": 4
}
