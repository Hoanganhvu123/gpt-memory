{
 "cells": [
  {
   "cell_type": "markdown",
   "metadata": {},
   "source": [
    "# Tovana Memory Async Cookbook: Efficient Parallel Processing\n",
    "\n",
    "Welcome, developers! This cookbook demonstrates how to use Tovana's `AsyncMemoryManager` to implement efficient parallel processing in your AI applications.\n",
    "\n",
    "## What we'll cover:\n",
    "\n",
    "- Setting up AsyncMemoryManager\n",
    "- Creating async functions for memory updates\n",
    "- Implementing parallel memory updates\n",
    "- Comparing sync vs async approaches\n",
    "\n",
    "Let's get started!"
   ]
  },
  {
   "cell_type": "markdown",
   "metadata": {},
   "source": [
    "## Setting Up"
   ]
  },
  {
   "cell_type": "code",
   "execution_count": null,
   "metadata": {},
   "outputs": [],
   "source": [
    "import asyncio\n",
    "import os\n",
    "import time\n",
    "import uuid\n",
    "from typing import List\n",
    "\n",
    "from tovana import AsyncMemoryManager\n",
    "\n",
    "# Set your MISTRAL_API_KEY in your environment variables\n",
    "# os.environ[\"MISTRAL_API_KEY\"] = \"your-api-key-here\"\n",
    "\n",
    "print(\"Imports complete.\")"
   ]
  },
  {
   "cell_type": "markdown",
   "metadata": {},
   "source": [
    "## Async Memory Update Function\n",
    "\n",
    "This function updates user memories and retrieves context and beliefs asynchronously."
   ]
  },
  {
   "cell_type": "code",
   "execution_count": null,
   "metadata": {},
   "outputs": [],
   "source": [
    "async def update_user_memory(\n",
    "    memory_manager: AsyncMemoryManager, user_id: str, messages: List[str]\n",
    "):\n",
    "    print(f\"Updating memory for user {user_id}...\")\n",
    "    for message in messages:\n",
    "        await memory_manager.update_memory(user_id, message)\n",
    "    \n",
    "    context = await memory_manager.get_memory_context(user_id)\n",
    "    print(f\"Memory context for user {user_id}:\\n{context}\\n\")\n",
    "    \n",
    "    beliefs = await memory_manager.get_beliefs(user_id)\n",
    "    print(f\"Beliefs for user {user_id}:\\n{beliefs}\\n\")\n",
    "    \n",
    "print(\"Async memory updater function ready.\")"
   ]
  },
  {
   "cell_type": "markdown",
   "metadata": {},
   "source": [
    "## Main Async Function\n",
    "\n",
    "This function demonstrates parallel memory updates for multiple users."
   ]
  },
  {
   "cell_type": "code",
   "execution_count": null,
   "metadata": {},
   "outputs": [],
   "source": [
    "async def main():\n",
    "    print(\"Starting main async function...\")\n",
    "    \n",
    "    memory_manager = AsyncMemoryManager(\n",
    "        api_key=os.environ[\"MISTRAL_API_KEY\"],\n",
    "        provider=\"mistralai\",\n",
    "        temperature=0,\n",
    "        business_description=\"A personal therapist\",\n",
    "        include_beliefs=True,\n",
    "    )\n",
    "    \n",
    "    # Generate user IDs\n",
    "    user1_id, user2_id, user3_id = str(uuid.uuid4()), str(uuid.uuid4()), str(uuid.uuid4())\n",
    "    \n",
    "    # Define messages for each user\n",
    "    user1_messages = [\n",
    "        \"I have a pet dog named Charlie.\",\n",
    "        \"I live in New York City.\",\n",
    "        \"I have a young daughter named Lisa.\",\n",
    "        \"I love playing basketball.\",\n",
    "        \"We're expecting a baby in 3 months.\",\n",
    "    ]\n",
    "    \n",
    "    user2_messages = [\n",
    "        \"I recently moved to San Francisco.\",\n",
    "        \"I'm learning to play the guitar.\",\n",
    "        \"I work as a software engineer.\",\n",
    "        \"I'm planning a trip to Japan next year.\",\n",
    "    ]\n",
    "    \n",
    "    user3_messages = [\n",
    "        \"I'm a college student studying physics.\",\n",
    "        \"I have two cats named Sun and Moon.\",\n",
    "        \"I'm passionate about environmental issues.\",\n",
    "    ]\n",
    "    \n",
    "    print(\"Starting async memory updates...\")\n",
    "    start_time = time.time()\n",
    "    \n",
    "    # Perform parallel memory updates\n",
    "    await asyncio.gather(\n",
    "        update_user_memory(memory_manager, user1_id, user1_messages),\n",
    "        update_user_memory(memory_manager, user2_id, user2_messages),\n",
    "        update_user_memory(memory_manager, user3_id, user3_messages),\n",
    "    )\n",
    "    \n",
    "    end_time = time.time()\n",
    "    print(f\"Async updates completed. Total time: {end_time - start_time:.2f} seconds\")\n",
    "    \n",
    "    # Get specific context for user1\n",
    "    context = await memory_manager.get_memory_context(\n",
    "        user1_id, message=\"There's a new basketball court in the park.\"\n",
    "    )\n",
    "    print(f\"Specific context for user {user1_id}:\\n{context}\")\n",
    "\n",
    "# Run the async main function\n",
    "asyncio.run(main())\n",
    "print(\"Async demonstration complete.\")"
   ]
  },
  {
   "cell_type": "markdown",
   "metadata": {},
   "source": [
    "## Benefits of Async Operations\n",
    "\n",
    "1. **Parallel Processing**: Updates memories for multiple users simultaneously.\n",
    "2. **Improved Performance**: Reduces wait times, especially for I/O-bound tasks like API calls.\n",
    "3. **Scalability**: Handles more concurrent updates as user base grows.\n",
    "4. **Resource Efficiency**: Makes better use of system resources.\n",
    "\n",
    "## Sync vs Async: A Comparison\n",
    "\n",
    "- **Sync**: Processes one task at a time. Simple but potentially slower for multiple operations.\n",
    "- **Async**: Handles multiple tasks concurrently. More complex but efficient for parallel operations.\n",
    "\n",
    "Tovana provides both options, allowing you to choose based on your application's specific needs.\n",
    "\n",
    "## Conclusion\n",
    "\n",
    "This cookbook demonstrated the async capabilities of Tovana Memory. By leveraging async operations, you can build more efficient and scalable AI applications. Experiment with these concepts to find the best approach for your projects."
   ]
  }
 ],
 "metadata": {
  "language_info": {
   "name": "python"
  }
 },
 "nbformat": 4,
 "nbformat_minor": 2
}
